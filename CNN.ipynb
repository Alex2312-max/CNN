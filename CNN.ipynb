{
 "cells": [
  {
   "cell_type": "code",
   "execution_count": 160,
   "id": "b3cc74b6",
   "metadata": {},
   "outputs": [],
   "source": [
    "import pandas as pd\n",
    "import numpy as np\n",
    "import os\n",
    "from glob import glob\n",
    "import re\n",
    "from skimage import io\n",
    "\n",
    "import torch\n",
    "from torch import optim\n",
    "import torch.nn.functional as F\n",
    "from torch.utils.data import Dataset, DataLoader\n",
    "from torchvision import transforms\n",
    "from torch import nn\n",
    "from torchvision import models"
   ]
  },
  {
   "cell_type": "code",
   "execution_count": 161,
   "id": "07e39117",
   "metadata": {},
   "outputs": [],
   "source": [
    "# Paths to directories with images\n",
    "train_path = r'data/cnn_data/training_set/training_set'\n",
    "test_path = r'data/cnn_data/test_set/test_set'"
   ]
  },
  {
   "cell_type": "code",
   "execution_count": 162,
   "id": "d8d6a0d0",
   "metadata": {},
   "outputs": [],
   "source": [
    "# Function to create a dataframe for\n",
    "def annotations(train_path, variable=None):    \n",
    "    list_name = []\n",
    "    # Read each image \n",
    "    for file in glob(train_path + \"\\*.jpg\"):\n",
    "        try:\n",
    "            # If the pattern is found store the image name in a list\n",
    "            name_file = re.findall(\"(\\w+\\.\\d+\\.jpg)\", file)[0]\n",
    "            list_name.append(name_file)\n",
    "            # The above syntax is used in case there are some trash files\n",
    "            # in case it is not used 're.findall' returns a list with zero elements\n",
    "            # and an exception is risen\n",
    "        except IndexError:\n",
    "            # Else print the error\n",
    "            print('No organization match for {}'.format(file))\n",
    "    # If true than hte index will be set to 1 for cat datframe\n",
    "    if variable:       \n",
    "        annotation_index = pd.Series(np.ones(len(list_name)), name='index', dtype='int64')\n",
    "        file_name = pd.Series(list_name, name='file_name')\n",
    "    # Else index will be set to 0\n",
    "    else:\n",
    "        annotation_index = pd.Series(np.zeros(len(list_name)), name='index', dtype='int64')\n",
    "        file_name = pd.Series(list_name, name='file_name')\n",
    "    return pd.concat([file_name, annotation_index], axis=1)"
   ]
  },
  {
   "cell_type": "code",
   "execution_count": 163,
   "id": "5d1375fb",
   "metadata": {},
   "outputs": [
    {
     "name": "stdout",
     "output_type": "stream",
     "text": [
      "No organization match for data/cnn_data/training_set/training_set\\dogs\\dog.1642(1).jpg\n",
      "No organization match for data/cnn_data/training_set/training_set\\dogs\\dog.3055(1).jpg\n",
      "No organization match for data/cnn_data/training_set/training_set\\dogs\\dog.664(1).jpg\n",
      "No organization match for data/cnn_data/training_set/training_set\\dogs\\dog.84(1).jpg\n",
      "No organization match for data/cnn_data/training_set/training_set\\dogs\\dog.90(1).jpg\n",
      "No organization match for data/cnn_data/test_set/test_set\\cats\\cat.4142(1).jpg\n",
      "No organization match for data/cnn_data/test_set/test_set\\cats\\cat.4156(1).jpg\n",
      "No organization match for data/cnn_data/test_set/test_set\\cats\\cat.4181(1).jpg\n",
      "No organization match for data/cnn_data/test_set/test_set\\cats\\cat.4195(1).jpg\n",
      "No organization match for data/cnn_data/test_set/test_set\\cats\\cat.4220(1).jpg\n",
      "No organization match for data/cnn_data/test_set/test_set\\cats\\cat.4397(1).jpg\n",
      "No organization match for data/cnn_data/test_set/test_set\\cats\\cat.4618(1).jpg\n",
      "No organization match for data/cnn_data/test_set/test_set\\cats\\cat.4624(1).jpg\n",
      "No organization match for data/cnn_data/test_set/test_set\\cats\\cat.4630(1).jpg\n",
      "No organization match for data/cnn_data/test_set/test_set\\cats\\cat.4803(1).jpg\n",
      "No organization match for data/cnn_data/test_set/test_set\\cats\\cat.4817(1).jpg\n",
      "No organization match for data/cnn_data/test_set/test_set\\dogs\\dog.4159(1).jpg\n",
      "No organization match for data/cnn_data/test_set/test_set\\dogs\\dog.4165(1).jpg\n",
      "No organization match for data/cnn_data/test_set/test_set\\dogs\\dog.4171(1).jpg\n",
      "No organization match for data/cnn_data/test_set/test_set\\dogs\\dog.4205(1).jpg\n",
      "No organization match for data/cnn_data/test_set/test_set\\dogs\\dog.4373(1).jpg\n",
      "No organization match for data/cnn_data/test_set/test_set\\dogs\\dog.4429(1).jpg\n",
      "No organization match for data/cnn_data/test_set/test_set\\dogs\\dog.4563(1).jpg\n",
      "No organization match for data/cnn_data/test_set/test_set\\dogs\\dog.4603(1).jpg\n",
      "No organization match for data/cnn_data/test_set/test_set\\dogs\\dog.4617(1).jpg\n",
      "No organization match for data/cnn_data/test_set/test_set\\dogs\\dog.4818(1).jpg\n",
      "No organization match for data/cnn_data/test_set/test_set\\dogs\\dog.4824(1).jpg\n",
      "No organization match for data/cnn_data/test_set/test_set\\dogs\\dog.4830(1).jpg\n"
     ]
    }
   ],
   "source": [
    "# Preparing the dataframe with annotations for train set\n",
    "cat_df = annotations(os.path.join(train_path, 'cats'), variable=True)\n",
    "dog_df = annotations(os.path.join(train_path, 'dogs'))\n",
    "train_annotations = pd.concat([cat_df, dog_df], ignore_index=True)\n",
    "# Shuffle the dataframe\n",
    "train_annotations = train_annotations.sample(frac=1)\n",
    "# Preparing the dataframe with annotations for test set\n",
    "cat_df = annotations(os.path.join(test_path, 'cats'), variable=True)\n",
    "dog_df = annotations(os.path.join(test_path, 'dogs'))\n",
    "test_annotations = pd.concat([cat_df, dog_df], ignore_index=True)\n",
    "# Shuffle the dataframe\n",
    "test_annotations = test_annotations.sample(frac=1)"
   ]
  },
  {
   "cell_type": "code",
   "execution_count": 164,
   "id": "292802ee",
   "metadata": {},
   "outputs": [
    {
     "data": {
      "text/plain": [
       "1    4000\n",
       "0    4000\n",
       "Name: index, dtype: int64"
      ]
     },
     "execution_count": 164,
     "metadata": {},
     "output_type": "execute_result"
    }
   ],
   "source": [
    "train_annotations['index'].value_counts()"
   ]
  },
  {
   "cell_type": "markdown",
   "id": "febaefd8",
   "metadata": {},
   "source": [
    "#### class DataSet"
   ]
  },
  {
   "cell_type": "code",
   "execution_count": 165,
   "id": "0e99fa9c",
   "metadata": {},
   "outputs": [],
   "source": [
    "class CatDogsDataset(Dataset):\n",
    "    def __init__(self, data, path , transform = None):\n",
    "        # data - datframe with annotations\n",
    "        # path - root directory for train and test set\n",
    "        # transform - transforms used one images\n",
    "        super().__init__()\n",
    "        self.data = data\n",
    "        self.path = path\n",
    "        self.transform = transform\n",
    "        \n",
    "    def __len__(self):\n",
    "        # Return the length of the dataframe\n",
    "        return len(self.data)\n",
    "    \n",
    "    def __getitem__(self,index):\n",
    "        # Given the path and the name of the image got from dataframe, read the image\n",
    "        image = io.imread(os.path.join(self.path, self.data.iloc[index, 0]))\n",
    "        # Transform the label to tensor\n",
    "        y_label = torch.tensor(self.data.iloc[index, 1])\n",
    "        # If transform is true, transform the image\n",
    "        if self.transform:\n",
    "            image = self.transform(image)\n",
    "        # Returns a tuple the consist of the image and its label    \n",
    "        return (image, y_label)"
   ]
  },
  {
   "cell_type": "markdown",
   "id": "d0e8e55f",
   "metadata": {},
   "source": [
    "Transformers for images:"
   ]
  },
  {
   "cell_type": "code",
   "execution_count": 166,
   "id": "3d65b19f",
   "metadata": {},
   "outputs": [],
   "source": [
    "# Defining th mean and std for each channel from an image\n",
    "means = [0.485, 0.456, 0.406]\n",
    "std = [0.229, 0.224, 0.225]\n",
    "# ToPILImage() - transforms the image into PILImage for future transformations\n",
    "# CenterCrop(256) - crops the image from center, in this case we will have a crop of 256x256\n",
    "# ToTensor() - transform to tensor\n",
    "# Normalize(means,std) - normalize the calues\n",
    "train_transform = transforms.Compose([#transforms.Resize(256),\n",
    "                                      transforms.ToPILImage(),\n",
    "                                      transforms.Resize((256, 256)),\n",
    "                                      transforms.ToTensor(),\n",
    "                                      transforms.Normalize(means,std)])\n",
    "\n",
    "test_transform = transforms.Compose([# transforms.Resize(256),\n",
    "                                     transforms.ToPILImage(),\n",
    "                                     transforms.Resize((256, 256)),  \n",
    "                                     transforms.ToTensor(),\n",
    "                                     transforms.Normalize(means,std)])"
   ]
  },
  {
   "cell_type": "markdown",
   "id": "d01c3011",
   "metadata": {},
   "source": [
    "Transformers that i used in this project:"
   ]
  },
  {
   "cell_type": "code",
   "execution_count": 167,
   "id": "30e96204",
   "metadata": {},
   "outputs": [],
   "source": [
    "# ToPILImage() - transforms the image into PILImage for future transformations\n",
    "# Resize((224, 224)) - resize image as 224x224\n",
    "# RandomResizedCrop(224) - data augmentation where a crop of random size of the original size and a \n",
    "#                          random aspect ratio of the original aspect ratio is made.\n",
    "# RandomHorizontalFlip() - flip horizontally the given image randomly with a given probability.\n",
    "# ToTensor() - transform to tensor\n",
    "train_transforms =  transforms.Compose([\n",
    "        transforms.ToPILImage(),\n",
    "        transforms.Resize((224, 224)),\n",
    "        transforms.RandomResizedCrop(224),\n",
    "        transforms.RandomHorizontalFlip(),\n",
    "        transforms.ToTensor(),\n",
    "    ])\n",
    "\n",
    "test_transforms = transforms.Compose([\n",
    "    transforms.ToPILImage(),\n",
    "    transforms.Resize((224, 224)),\n",
    "    transforms.RandomResizedCrop(224),\n",
    "    transforms.RandomHorizontalFlip(),\n",
    "    transforms.ToTensor()\n",
    "    ])"
   ]
  },
  {
   "cell_type": "code",
   "execution_count": 168,
   "id": "066c9351",
   "metadata": {},
   "outputs": [],
   "source": [
    "class Network(nn.Module):\n",
    "    \n",
    "    def __init__(self):\n",
    "        super(Network,self).__init__()\n",
    "        #  Pack multiple components into multilayer network.\n",
    "        self.layer1 = nn.Sequential(\n",
    "            # We have 3 RGB channels as input of convolutional layer\n",
    "            # Kernel - size 3x3\n",
    "            # Padding is used for extending the edge of an image if it is needed\n",
    "            # MaxPool2D - applies a 2D max pooling over an input signal composed of several input plane\n",
    "            # Stride - controls the stride for the cross-correlation\n",
    "            # Relu - activation function\n",
    "            # BtachNorm2D - Normalization id the tensor\n",
    "            nn.Conv2d(3,16,kernel_size=3, padding=0,stride=2),\n",
    "            nn.BatchNorm2d(16),\n",
    "            nn.ReLU(),\n",
    "            nn.MaxPool2d(2))\n",
    "        self.layer2 = nn.Sequential(\n",
    "            nn.Conv2d(16,32, kernel_size=3, padding=0, stride=2),\n",
    "            nn.BatchNorm2d(32),\n",
    "            nn.ReLU(),\n",
    "            nn.MaxPool2d(2))\n",
    "        self.layer3 = nn.Sequential(\n",
    "            nn.Conv2d(32,64, kernel_size=3, padding=0, stride=2),\n",
    "            nn.BatchNorm2d(64),\n",
    "            nn.ReLU(),\n",
    "            nn.MaxPool2d(2))\n",
    "        # We calculate the input for the linear function by multiplying the output and size of kernel user\n",
    "        # and we obtain 3x3x64\n",
    "        self.fc1 = nn.Linear(3*3*64, 50)\n",
    "        # randomly zeroes some of the elements of the input tensor with \n",
    "        # probability p using samples from a Bernoulli distribution.\n",
    "        self.dropout = nn.Dropout(0.5)\n",
    "        self.fc2 = nn.Linear(50,2)\n",
    "        self.relu = nn.ReLU()\n",
    "        \n",
    "        \n",
    "    def forward(self,x):\n",
    "        out = self.layer1(x)\n",
    "        out = self.layer2(out)\n",
    "        out = self.layer3(out)\n",
    "        # Reshape into a 1D vector for giving the output of convolutional neural network to the linear function\n",
    "        out = out.view(out.size(0),-1)\n",
    "        out = self.relu(self.fc1(out))\n",
    "        out = self.fc2(out)\n",
    "        return out"
   ]
  },
  {
   "cell_type": "markdown",
   "id": "07c9244c",
   "metadata": {},
   "source": [
    "#### Initialize the model"
   ]
  },
  {
   "cell_type": "code",
   "execution_count": 169,
   "id": "c2b3e6b1",
   "metadata": {},
   "outputs": [],
   "source": [
    "# Initialize th model instance\n",
    "model = Network()"
   ]
  },
  {
   "cell_type": "code",
   "execution_count": 170,
   "id": "ba090967",
   "metadata": {},
   "outputs": [],
   "source": [
    "# Define the loss function, here we use Cross Entropy Loss and optimizer Adam\n",
    "loss_func = nn.CrossEntropyLoss()\n",
    "optimizer = optim.Adam(params = model.parameters(),lr=0.001)"
   ]
  },
  {
   "cell_type": "markdown",
   "id": "9a91ccdc",
   "metadata": {},
   "source": [
    "#### Calling DataSet and DataLoader classes:"
   ]
  },
  {
   "cell_type": "code",
   "execution_count": 171,
   "id": "b1976fca",
   "metadata": {},
   "outputs": [],
   "source": [
    "train_set = CatDogsDataset(train_annotations, path=train_path, transform=train_transforms)\n",
    "test_set = CatDogsDataset(test_annotations, path=test_path, transform=test_transforms)\n",
    "\n",
    "train_loader = DataLoader(train_set, batch_size=50, shuffle=True)\n",
    "test_loader = DataLoader(test_set, batch_size=50, shuffle=True)"
   ]
  },
  {
   "cell_type": "markdown",
   "id": "d0fddf7d",
   "metadata": {},
   "source": [
    "#### Training Loop"
   ]
  },
  {
   "cell_type": "code",
   "execution_count": 172,
   "id": "3502c3a0",
   "metadata": {},
   "outputs": [],
   "source": [
    "EPOCH = 10"
   ]
  },
  {
   "cell_type": "code",
   "execution_count": 173,
   "id": "154d4ea2",
   "metadata": {},
   "outputs": [
    {
     "name": "stdout",
     "output_type": "stream",
     "text": [
      "epoch 0\n",
      "            Train set - loss: 0.6451532244682312, accuracy: 0.6311249732971191\n",
      "            Test set - loss: nothing to show, accuracy: 0.6340000033378601\n",
      "epoch 1\n",
      "            Train set - loss: 0.7003822326660156, accuracy: 0.6632500290870667\n",
      "            Test set - loss: nothing to show, accuracy: 0.6499999761581421\n",
      "epoch 2\n",
      "            Train set - loss: 0.6763384342193604, accuracy: 0.6848750114440918\n",
      "            Test set - loss: nothing to show, accuracy: 0.7020000219345093\n",
      "epoch 3\n",
      "            Train set - loss: 0.559609591960907, accuracy: 0.7036250233650208\n",
      "            Test set - loss: nothing to show, accuracy: 0.7139999866485596\n",
      "epoch 4\n",
      "            Train set - loss: 0.5423957109451294, accuracy: 0.7137500047683716\n",
      "            Test set - loss: nothing to show, accuracy: 0.7235000133514404\n",
      "epoch 5\n",
      "            Train set - loss: 0.4625723958015442, accuracy: 0.7264999747276306\n",
      "            Test set - loss: nothing to show, accuracy: 0.7289999723434448\n",
      "epoch 6\n",
      "            Train set - loss: 0.5908744931221008, accuracy: 0.7276250123977661\n",
      "            Test set - loss: nothing to show, accuracy: 0.7285000085830688\n",
      "epoch 7\n",
      "            Train set - loss: 0.6728507280349731, accuracy: 0.7348750233650208\n",
      "            Test set - loss: nothing to show, accuracy: 0.7465000152587891\n",
      "epoch 8\n",
      "            Train set - loss: 0.563297688961029, accuracy: 0.7398750185966492\n",
      "            Test set - loss: nothing to show, accuracy: 0.7304999828338623\n",
      "epoch 9\n",
      "            Train set - loss: 0.48880621790885925, accuracy: 0.749625027179718\n",
      "            Test set - loss: nothing to show, accuracy: 0.7419999837875366\n",
      "Wall time: 21min 35s\n"
     ]
    }
   ],
   "source": [
    "%%time\n",
    "\n",
    "train_acc = torch.zeros(EPOCH)\n",
    "train_loss = torch.zeros(EPOCH)\n",
    "test_acc = torch.zeros(EPOCH)\n",
    "\n",
    "for epoch in range(EPOCH):\n",
    "    \n",
    "    correct_train = 0\n",
    "    total_train = 0\n",
    "    loss_train = 0.0\n",
    "    \n",
    "    for samples, labels in train_loader:\n",
    "        \n",
    "        predictions = model(samples)\n",
    "        \n",
    "        loss = loss_func(predictions, labels)\n",
    "        _, predicted = torch.max(predictions.data, 1)\n",
    "        \n",
    "        total_train += labels.size(0)\n",
    "        # Count all the true positive predictions and sum them and add to the correct train\n",
    "        correct_train += (predicted == labels).sum().item()\n",
    "        \n",
    "        optimizer.zero_grad()\n",
    "        loss.backward()\n",
    "        optimizer.step()\n",
    "\n",
    "    train_loss[epoch] = loss\n",
    "    # Calculalte the accuracy\n",
    "    train_acc[epoch] =  correct_train / total_train   \n",
    "    # This loop computes the accuracy for test and train data\n",
    "    correct = 0\n",
    "    total = 0\n",
    "\n",
    "    with torch.no_grad():\n",
    "        for samples, labels in test_loader:\n",
    "                \n",
    "            # calculate outputs by running images through the network\n",
    "            predictions = model(samples)\n",
    "            loss_test = loss_func(predictions, labels)\n",
    "            # the class with the highest energy is what we choose as prediction\n",
    "            _, predicted = torch.max(predictions, dim=1)\n",
    "                    \n",
    "            total += labels.shape[0]\n",
    "            correct += int((predicted == labels).sum())\n",
    "            # correct += ((predictions.argmax(dim=1) == labels).float().mean())\n",
    "            \n",
    "        test_acc[epoch] = correct / total\n",
    "    print(f'''epoch {epoch}\n",
    "            Train set - loss: {train_loss[epoch]}, accuracy: {train_acc[epoch]}\n",
    "            Test set - loss: nothing to show, accuracy: {test_acc[epoch]}''')"
   ]
  },
  {
   "cell_type": "code",
   "execution_count": 177,
   "id": "1e2281f0",
   "metadata": {
    "scrolled": true
   },
   "outputs": [
    {
     "data": {
      "image/png": "[encoded data removed]",
      "text/plain": [
       "<Figure size 1152x720 with 2 Axes>"
      ]
     },
     "metadata": {
      "needs_background": "light"
     },
     "output_type": "display_data"
    }
   ],
   "source": [
    "# Iterate and obtain points for 1000 values of x\n",
    "import matplotlib.pyplot as plt\n",
    "\n",
    "x1 = range(0, 10)\n",
    "x2 = range(0, 10)\n",
    "plt.figure(figsize=(16,10))\n",
    "plt.subplot(2, 1, 1)\n",
    "plt.plot(x1, train_acc.detach().numpy(), 'o-')\n",
    "plt.title('Train accuracy vs. epoches')\n",
    "plt.ylabel('Test accuracy')\n",
    "plt.grid()\n",
    "plt.subplot(2, 1, 2)\n",
    "plt.plot(x2, train_loss.detach().numpy(), '.-', c='red')\n",
    "plt.xlabel('Train loss vs. epoches')\n",
    "plt.ylabel('Train loss')\n",
    "plt.grid()\n",
    "plt.show()"
   ]
  },
  {
   "cell_type": "code",
   "execution_count": null,
   "id": "d771598d",
   "metadata": {},
   "outputs": [],
   "source": [
    "_, max_index = torch.max(test_accuracy, dim=0)\n",
    "max_index\n",
    "# I can train the mmodel using the max_index, but it will "
   ]
  },
  {
   "cell_type": "markdown",
   "id": "a374e200",
   "metadata": {},
   "source": [
    "#### ResNet18"
   ]
  },
  {
   "cell_type": "code",
   "execution_count": 178,
   "id": "e82462fd",
   "metadata": {},
   "outputs": [],
   "source": [
    "resnet = models.resnet18(pretrained=True)"
   ]
  },
  {
   "cell_type": "code",
   "execution_count": 179,
   "id": "7428a35b",
   "metadata": {},
   "outputs": [],
   "source": [
    "loss_func = nn.CrossEntropyLoss()\n",
    "optimizer = optim.Adam(params = resnet.parameters(),lr=0.001)"
   ]
  },
  {
   "cell_type": "code",
   "execution_count": 182,
   "id": "6917f0bf",
   "metadata": {},
   "outputs": [
    {
     "name": "stdout",
     "output_type": "stream",
     "text": [
      "epoch 0\n",
      "            Train set - loss: 0.31597983837127686, accuracy: 0.9073749780654907\n",
      "            Test set - loss: nothing to show, accuracy: 0.9045000076293945\n",
      "epoch 1\n",
      "            Train set - loss: 0.22670568525791168, accuracy: 0.9111250042915344\n",
      "            Test set - loss: nothing to show, accuracy: 0.9229999780654907\n",
      "epoch 2\n",
      "            Train set - loss: 0.13218016922473907, accuracy: 0.9150000214576721\n",
      "            Test set - loss: nothing to show, accuracy: 0.9125000238418579\n",
      "epoch 3\n",
      "            Train set - loss: 0.30624592304229736, accuracy: 0.9176250100135803\n",
      "            Test set - loss: nothing to show, accuracy: 0.9075000286102295\n",
      "epoch 4\n",
      "            Train set - loss: 0.16661107540130615, accuracy: 0.9151250123977661\n",
      "            Test set - loss: nothing to show, accuracy: 0.9110000133514404\n",
      "Wall time: 1h 23min 33s\n"
     ]
    }
   ],
   "source": [
    "%%time\n",
    "\n",
    "train_acc = torch.zeros(EPOCH)\n",
    "train_loss = torch.zeros(EPOCH)\n",
    "test_acc = torch.zeros(EPOCH)\n",
    "EPOCH = 5\n",
    "\n",
    "for epoch in range(EPOCH):\n",
    "    \n",
    "    correct_train = 0\n",
    "    total_train = 0\n",
    "    loss_train = 0.0\n",
    "    \n",
    "    for samples, labels in train_loader:\n",
    "        \n",
    "        predictions = resnet(samples)\n",
    "        \n",
    "        loss = loss_func(predictions, labels)\n",
    "        _, predicted = torch.max(predictions.data, 1)\n",
    "        \n",
    "        total_train += labels.size(0)\n",
    "        correct_train += (predicted == labels).sum().item()\n",
    "        \n",
    "        optimizer.zero_grad()\n",
    "        loss.backward()\n",
    "        optimizer.step()\n",
    "        \n",
    "    train_loss[epoch] = loss\n",
    "    train_acc[epoch] =  correct_train / total_train   \n",
    "    # This loop computes the accuracy for test and train data\n",
    "    correct = 0\n",
    "    total = 0\n",
    "\n",
    "    with torch.no_grad():\n",
    "        for samples, labels in test_loader:\n",
    "                \n",
    "            # calculate outputs by running images through the network\n",
    "            predictions = resnet(samples)\n",
    "            loss_test = loss_func(predictions, labels)\n",
    "            # the class with the highest energy is what we choose as prediction\n",
    "            _, predicted = torch.max(predictions, dim=1)\n",
    "                    \n",
    "            total += labels.shape[0]\n",
    "            correct += int((predicted == labels).sum())\n",
    "            \n",
    "        test_acc[epoch] = correct / total\n",
    "    print(f'''epoch {epoch}\n",
    "            Train set - loss: {train_loss[epoch]}, accuracy: {train_acc[epoch]}\n",
    "            Test set - loss: nothing to show, accuracy: {test_acc[epoch]}''')"
   ]
  },
  {
   "cell_type": "code",
   "execution_count": 186,
   "id": "9d43937e",
   "metadata": {},
   "outputs": [
    {
     "data": {
      "image/png": "[encoded data removed]",
      "text/plain": [
       "<Figure size 1152x720 with 2 Axes>"
      ]
     },
     "metadata": {
      "needs_background": "light"
     },
     "output_type": "display_data"
    }
   ],
   "source": [
    "# Iterate and obtain points for 1000 values of x\n",
    "import matplotlib.pyplot as plt\n",
    "\n",
    "x1 = range(0, 10)\n",
    "x2 = range(0, 10)\n",
    "plt.figure(figsize=(16,10))\n",
    "plt.subplot(2, 1, 1)\n",
    "plt.plot(x1, train_acc.detach().numpy(), 'o-')\n",
    "plt.title('Train  accuracy vs. epoches')\n",
    "plt.ylabel('Test accuracy')\n",
    "plt.grid()\n",
    "plt.subplot(2, 1, 2)\n",
    "plt.plot(x2, train_loss.detach().numpy(), '.-', c='red')\n",
    "plt.xlabel('Train loss vs. epoches')\n",
    "plt.ylabel('Test loss')\n",
    "plt.grid()\n",
    "plt.show()"
   ]
  }
 ],
 "metadata": {
  "kernelspec": {
   "display_name": "Python 3 (ipykernel)",
   "language": "python",
   "name": "python3"
  },
  "language_info": {
   "codemirror_mode": {
    "name": "ipython",
    "version": 3
   },
   "file_extension": ".py",
   "mimetype": "text/x-python",
   "name": "python",
   "nbconvert_exporter": "python",
   "pygments_lexer": "ipython3",
   "version": "3.7.4"
  }
 },
 "nbformat": 4,
 "nbformat_minor": 5
}
